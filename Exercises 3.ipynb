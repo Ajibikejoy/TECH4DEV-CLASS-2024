{
 "cells": [
  {
   "cell_type": "markdown",
   "id": "8bf723e8",
   "metadata": {},
   "source": [
    "# Exercises 3"
   ]
  },
  {
   "cell_type": "code",
   "execution_count": 1,
   "id": "241cba0f",
   "metadata": {},
   "outputs": [],
   "source": [
    "# Question 1"
   ]
  },
  {
   "cell_type": "code",
   "execution_count": 2,
   "id": "de078b74",
   "metadata": {},
   "outputs": [
    {
     "name": "stdout",
     "output_type": "stream",
     "text": [
      "+----+\n",
      "\\ /\n",
      "/ \\\n",
      "\\ /\n",
      "/ \\\n",
      "\\ /\n",
      "/ \\\n",
      "+----+\n"
     ]
    }
   ],
   "source": [
    "# Set the number of rows for the pattern\n",
    "rows = 8\n",
    "\n",
    "# Loop to print the pattern\n",
    "for i in range(rows):\n",
    "    if i == 0 or i == rows - 1:\n",
    "        print(\"+----+\")\n",
    "    else:\n",
    "        if i % 2 == 1:\n",
    "            print(\"\\\\ /\")\n",
    "        else:\n",
    "            print(\"/ \\\\\")\n"
   ]
  },
  {
   "cell_type": "code",
   "execution_count": 3,
   "id": "36ef6ab4",
   "metadata": {},
   "outputs": [],
   "source": [
    "#Question 2"
   ]
  },
  {
   "cell_type": "code",
   "execution_count": 4,
   "id": "21f2355d",
   "metadata": {},
   "outputs": [
    {
     "name": "stdout",
     "output_type": "stream",
     "text": [
      "**********\n",
      "**********\n",
      "**********\n",
      "**********\n",
      "**********\n"
     ]
    }
   ],
   "source": [
    "# Number of rows in the pattern\n",
    "rows = 5\n",
    "\n",
    "# Outer loop for each row\n",
    "for i in range(rows):\n",
    "    # Inner loop for each column\n",
    "    for j in range(10):\n",
    "        print('*', end='')\n",
    "\n",
    "    # Move to the next line after each row\n",
    "    print()\n"
   ]
  },
  {
   "cell_type": "code",
   "execution_count": 5,
   "id": "c8042c22",
   "metadata": {},
   "outputs": [],
   "source": [
    "#Question 3"
   ]
  },
  {
   "cell_type": "code",
   "execution_count": 6,
   "id": "0d6a3172",
   "metadata": {},
   "outputs": [
    {
     "name": "stdout",
     "output_type": "stream",
     "text": [
      "1 2 4 0 -7 97 -8\n",
      "2 4 21 10 -9 113 -10\n",
      "3 6 38 20 -11 129 -12\n",
      "4 8 55 30 -13 145 -14\n",
      "5 10 72 40 -15 161 -16\n",
      "6 12 89 50 -17 177 -18\n"
     ]
    }
   ],
   "source": [
    "for i in range(1, 7):\n",
    "    # Calculate values based on the given pattern\n",
    "    a = i\n",
    "    b = i * 2\n",
    "    c = i * 17 - 13\n",
    "    d = i * 10 - 10\n",
    "    e = -2 * i - 5\n",
    "    f = i * 16 + 81\n",
    "    g = -i * 2 - 6\n",
    "\n",
    "    # Print the values for each iteration\n",
    "    print(f\"{a} {b} {c} {d} {e} {f} {g}\")\n"
   ]
  },
  {
   "cell_type": "code",
   "execution_count": 7,
   "id": "31516758",
   "metadata": {},
   "outputs": [],
   "source": [
    "#Question 4"
   ]
  },
  {
   "cell_type": "code",
   "execution_count": 8,
   "id": "de22ed8e",
   "metadata": {},
   "outputs": [
    {
     "name": "stdout",
     "output_type": "stream",
     "text": [
      "1\n",
      "22\n",
      "333\n",
      "4444\n",
      "55555\n",
      "666666\n",
      "7777777\n"
     ]
    }
   ],
   "source": [
    "class Figure:\n",
    "    # Class constant to change the number of lines\n",
    "    NUM_LINES = 7\n",
    "\n",
    "    def print_figure(self):\n",
    "        # Outer loop for each line\n",
    "        for i in range(1, self.NUM_LINES + 1):\n",
    "            # Inner loop for each digit in the line\n",
    "            for j in range(i):\n",
    "                print(i, end=\"\")\n",
    "            # Move to the next line after each row\n",
    "            print()\n",
    "\n",
    "# Create an instance of the Figure class\n",
    "figure_instance = Figure()\n",
    "\n",
    "# Call the print_figure method to generate and print the pattern\n",
    "figure_instance.print_figure()\n"
   ]
  },
  {
   "cell_type": "code",
   "execution_count": 9,
   "id": "0b22e0e5",
   "metadata": {},
   "outputs": [],
   "source": [
    "#Question 5"
   ]
  },
  {
   "cell_type": "code",
   "execution_count": 10,
   "id": "2213b32b",
   "metadata": {},
   "outputs": [
    {
     "name": "stdout",
     "output_type": "stream",
     "text": [
      "33.0\n",
      "50.0\n"
     ]
    }
   ],
   "source": [
    "def pay(salary, hours_worked):\n",
    "    # Define the regular hours (up to 8 hours) and overtime rate\n",
    "    regular_hours = 8\n",
    "    overtime_rate = 1.5\n",
    "\n",
    "    # Calculate regular pay and overtime pay\n",
    "    if hours_worked <= regular_hours:\n",
    "        total_pay = salary * hours_worked\n",
    "    else:\n",
    "        regular_pay = salary * regular_hours\n",
    "        overtime_pay = salary * overtime_rate * (hours_worked - regular_hours)\n",
    "        total_pay = regular_pay + overtime_pay\n",
    "\n",
    "    return total_pay\n",
    "\n",
    "result = pay(5.50, 6)\n",
    "print(result)  # Output: 33.0\n",
    "\n",
    "result = pay(4.00, 11)\n",
    "print(result)  # Output: 50.0\n"
   ]
  },
  {
   "cell_type": "markdown",
   "id": "25776d27",
   "metadata": {},
   "source": [
    "#Question 6"
   ]
  },
  {
   "cell_type": "code",
   "execution_count": 11,
   "id": "9e8d5339",
   "metadata": {},
   "outputs": [
    {
     "name": "stdout",
     "output_type": "stream",
     "text": [
      "12.566370614359172\n"
     ]
    }
   ],
   "source": [
    "import math\n",
    "\n",
    "def area(radius):\n",
    "    # Calculate the area of the circle\n",
    "    circle_area = math.pi * radius ** 2\n",
    "    return circle_area\n",
    "\n",
    "result = area(2.0)\n",
    "print(result) \n",
    "\n"
   ]
  },
  {
   "cell_type": "markdown",
   "id": "45b86999",
   "metadata": {},
   "source": [
    "Question 7\n"
   ]
  },
  {
   "cell_type": "code",
   "execution_count": 12,
   "id": "d596c0ed",
   "metadata": {},
   "outputs": [
    {
     "ename": "KeyboardInterrupt",
     "evalue": "Interrupted by user",
     "output_type": "error",
     "traceback": [
      "\u001b[1;31m---------------------------------------------------------------------------\u001b[0m",
      "\u001b[1;31mKeyboardInterrupt\u001b[0m                         Traceback (most recent call last)",
      "Cell \u001b[1;32mIn[12], line 2\u001b[0m\n\u001b[0;32m      1\u001b[0m \u001b[38;5;66;03m# input for low and high\u001b[39;00m\n\u001b[1;32m----> 2\u001b[0m low \u001b[38;5;241m=\u001b[39m \u001b[38;5;28mint\u001b[39m(\u001b[38;5;28;43minput\u001b[39;49m\u001b[43m(\u001b[49m\u001b[38;5;124;43m\"\u001b[39;49m\u001b[38;5;124;43mlow? \u001b[39;49m\u001b[38;5;124;43m\"\u001b[39;49m\u001b[43m)\u001b[49m)\n\u001b[0;32m      3\u001b[0m high \u001b[38;5;241m=\u001b[39m \u001b[38;5;28mint\u001b[39m(\u001b[38;5;28minput\u001b[39m(\u001b[38;5;124m\"\u001b[39m\u001b[38;5;124mhigh? \u001b[39m\u001b[38;5;124m\"\u001b[39m))\n\u001b[0;32m      5\u001b[0m \u001b[38;5;66;03m# Initialize sum\u001b[39;00m\n",
      "File \u001b[1;32m~\\anaconda3\\lib\\site-packages\\ipykernel\\kernelbase.py:1175\u001b[0m, in \u001b[0;36mKernel.raw_input\u001b[1;34m(self, prompt)\u001b[0m\n\u001b[0;32m   1171\u001b[0m \u001b[38;5;28;01mif\u001b[39;00m \u001b[38;5;129;01mnot\u001b[39;00m \u001b[38;5;28mself\u001b[39m\u001b[38;5;241m.\u001b[39m_allow_stdin:\n\u001b[0;32m   1172\u001b[0m     \u001b[38;5;28;01mraise\u001b[39;00m StdinNotImplementedError(\n\u001b[0;32m   1173\u001b[0m         \u001b[38;5;124m\"\u001b[39m\u001b[38;5;124mraw_input was called, but this frontend does not support input requests.\u001b[39m\u001b[38;5;124m\"\u001b[39m\n\u001b[0;32m   1174\u001b[0m     )\n\u001b[1;32m-> 1175\u001b[0m \u001b[38;5;28;01mreturn\u001b[39;00m \u001b[38;5;28;43mself\u001b[39;49m\u001b[38;5;241;43m.\u001b[39;49m\u001b[43m_input_request\u001b[49m\u001b[43m(\u001b[49m\n\u001b[0;32m   1176\u001b[0m \u001b[43m    \u001b[49m\u001b[38;5;28;43mstr\u001b[39;49m\u001b[43m(\u001b[49m\u001b[43mprompt\u001b[49m\u001b[43m)\u001b[49m\u001b[43m,\u001b[49m\n\u001b[0;32m   1177\u001b[0m \u001b[43m    \u001b[49m\u001b[38;5;28;43mself\u001b[39;49m\u001b[38;5;241;43m.\u001b[39;49m\u001b[43m_parent_ident\u001b[49m\u001b[43m[\u001b[49m\u001b[38;5;124;43m\"\u001b[39;49m\u001b[38;5;124;43mshell\u001b[39;49m\u001b[38;5;124;43m\"\u001b[39;49m\u001b[43m]\u001b[49m\u001b[43m,\u001b[49m\n\u001b[0;32m   1178\u001b[0m \u001b[43m    \u001b[49m\u001b[38;5;28;43mself\u001b[39;49m\u001b[38;5;241;43m.\u001b[39;49m\u001b[43mget_parent\u001b[49m\u001b[43m(\u001b[49m\u001b[38;5;124;43m\"\u001b[39;49m\u001b[38;5;124;43mshell\u001b[39;49m\u001b[38;5;124;43m\"\u001b[39;49m\u001b[43m)\u001b[49m\u001b[43m,\u001b[49m\n\u001b[0;32m   1179\u001b[0m \u001b[43m    \u001b[49m\u001b[43mpassword\u001b[49m\u001b[38;5;241;43m=\u001b[39;49m\u001b[38;5;28;43;01mFalse\u001b[39;49;00m\u001b[43m,\u001b[49m\n\u001b[0;32m   1180\u001b[0m \u001b[43m\u001b[49m\u001b[43m)\u001b[49m\n",
      "File \u001b[1;32m~\\anaconda3\\lib\\site-packages\\ipykernel\\kernelbase.py:1217\u001b[0m, in \u001b[0;36mKernel._input_request\u001b[1;34m(self, prompt, ident, parent, password)\u001b[0m\n\u001b[0;32m   1214\u001b[0m             \u001b[38;5;28;01mbreak\u001b[39;00m\n\u001b[0;32m   1215\u001b[0m \u001b[38;5;28;01mexcept\u001b[39;00m \u001b[38;5;167;01mKeyboardInterrupt\u001b[39;00m:\n\u001b[0;32m   1216\u001b[0m     \u001b[38;5;66;03m# re-raise KeyboardInterrupt, to truncate traceback\u001b[39;00m\n\u001b[1;32m-> 1217\u001b[0m     \u001b[38;5;28;01mraise\u001b[39;00m \u001b[38;5;167;01mKeyboardInterrupt\u001b[39;00m(\u001b[38;5;124m\"\u001b[39m\u001b[38;5;124mInterrupted by user\u001b[39m\u001b[38;5;124m\"\u001b[39m) \u001b[38;5;28;01mfrom\u001b[39;00m \u001b[38;5;28mNone\u001b[39m\n\u001b[0;32m   1218\u001b[0m \u001b[38;5;28;01mexcept\u001b[39;00m \u001b[38;5;167;01mException\u001b[39;00m:\n\u001b[0;32m   1219\u001b[0m     \u001b[38;5;28mself\u001b[39m\u001b[38;5;241m.\u001b[39mlog\u001b[38;5;241m.\u001b[39mwarning(\u001b[38;5;124m\"\u001b[39m\u001b[38;5;124mInvalid Message:\u001b[39m\u001b[38;5;124m\"\u001b[39m, exc_info\u001b[38;5;241m=\u001b[39m\u001b[38;5;28;01mTrue\u001b[39;00m)\n",
      "\u001b[1;31mKeyboardInterrupt\u001b[0m: Interrupted by user"
     ]
    }
   ],
   "source": [
    "# input for low and high\n",
    "low = int(input(\"low? \"))\n",
    "high = int(input(\"high? \"))\n",
    "\n",
    "# Initialize sum\n",
    "sum_result = 0\n",
    "\n",
    "# Calculate the sum using a for loop\n",
    "for i in range(low, high):\n",
    "    sum_result += i\n",
    "\n",
    "# Print the result\n",
    "print(\"sum =\", sum_result)\n"
   ]
  },
  {
   "cell_type": "markdown",
   "id": "eb8341df",
   "metadata": {},
   "source": [
    "Question 8\n"
   ]
  },
  {
   "cell_type": "code",
   "execution_count": null,
   "id": "a2bf7515",
   "metadata": {},
   "outputs": [],
   "source": [
    "sum_of_numbers = 0\n",
    "\n",
    "# Prompt user for numbers until 0 is entered\n",
    "while True:\n",
    "    user_input = float(input(\"Enter a number (type 0 to stop): \"))\n",
    "    \n",
    "    # Check if the user entered 0\n",
    "    if user_input == 0:\n",
    "        break\n",
    "    \n",
    "    # Add the entered number to the sum\n",
    "    sum_of_numbers += user_input\n",
    "    print(\"Sum of the entered numbers:\", sum_of_numbers)"
   ]
  },
  {
   "cell_type": "markdown",
   "id": "117a9656",
   "metadata": {},
   "source": [
    "Question 9"
   ]
  },
  {
   "cell_type": "code",
   "execution_count": null,
   "id": "1fef8341",
   "metadata": {},
   "outputs": [],
   "source": [
    "sum_numbers = 0\n",
    "user_input = None\n",
    "\n",
    "# Use a while loop to continuously prompt the user for numbers\n",
    "while user_input != -1:\n",
    "    user_input = float(input(\"Enter a number (type -1 to exit): \"))\n",
    "    sum_numbers += user_input\n",
    "\n",
    "# Print the sum of the entered numbers\n",
    "print(\"Sum of the entered numbers:\", sum_numbers)\n"
   ]
  },
  {
   "cell_type": "markdown",
   "id": "9e4cae0b",
   "metadata": {},
   "source": [
    "Question 10"
   ]
  },
  {
   "cell_type": "code",
   "execution_count": null,
   "id": "2d50a94f",
   "metadata": {},
   "outputs": [],
   "source": [
    "def repl(input_str, repetitions):\n",
    "    # Check if the number of repetitions is 0 or less\n",
    "    if repetitions <= 0:\n",
    "        return \"\"\n",
    "    \n",
    "    # Concatenate the string that many times\n",
    "    result_str = input_str * repetitions\n",
    "    return result_str\n",
    "\n",
    "result = repl(\"hello \", 3)\n",
    "print(result)  # Output: \"hellohellohello\"\n",
    "\n",
    "result = repl(\"example\", 0)\n",
    "print(result)  # Output: \"\"\n"
   ]
  },
  {
   "cell_type": "markdown",
   "id": "fce762d3",
   "metadata": {},
   "source": [
    "Question 11"
   ]
  },
  {
   "cell_type": "code",
   "execution_count": null,
   "id": "95054498",
   "metadata": {},
   "outputs": [],
   "source": [
    "def smallestLargest():\n",
    "    # Ask the user for the number of numbers to enter\n",
    "    num_numbers = int(input(\"How many numbers do you want to enter? \"))\n",
    "\n",
    "    # variables for smallest and largest\n",
    "    smallest = float('inf')\n",
    "    largest = float('-inf')\n",
    "\n",
    "    # Loop to get user input and find smallest and largest\n",
    "    for i in range(1, num_numbers + 1):\n",
    "        current_number = float(input(f\"Number {i}: \"))\n",
    "        smallest = min(smallest, current_number)\n",
    "        largest = max(largest, current_number)\n",
    "\n",
    "    # Print the smallest and largest numbers\n",
    "    print(f\"Smallest = {smallest}\")\n",
    "    print(f\"Largest = {largest}\")\n",
    "\n",
    "smallestLargest()\n"
   ]
  },
  {
   "cell_type": "code",
   "execution_count": null,
   "id": "5d7a1030",
   "metadata": {},
   "outputs": [],
   "source": [
    "def printRange(start, end):\n",
    "    # Check if the sequence is increasing or decreasing\n",
    "    if start < end:\n",
    "        # Print an increasing sequence\n",
    "        for i in range(start, end + 1):\n",
    "            print(i, end=\" \")\n",
    "    elif start > end:\n",
    "        # Print a decreasing sequence\n",
    "        for i in range(start, end - 1, -1):\n",
    "            print(i, end=\" \")\n",
    "    else:\n",
    "        # Print the number itself if they are the same\n",
    "        print(start)\n",
    "\n",
    "printRange(2, 7)\n",
    "printRange(19, 11)\n",
    "printRange(5, 5)\n"
   ]
  },
  {
   "cell_type": "markdown",
   "id": "b1c0f32b",
   "metadata": {},
   "source": [
    "Question 12"
   ]
  },
  {
   "cell_type": "code",
   "execution_count": 14,
   "id": "991ff01e",
   "metadata": {},
   "outputs": [
    {
     "ename": "KeyboardInterrupt",
     "evalue": "Interrupted by user",
     "output_type": "error",
     "traceback": [
      "\u001b[1;31m---------------------------------------------------------------------------\u001b[0m",
      "\u001b[1;31mKeyboardInterrupt\u001b[0m                         Traceback (most recent call last)",
      "Cell \u001b[1;32mIn[14], line 19\u001b[0m\n\u001b[0;32m     16\u001b[0m     \u001b[38;5;28mprint\u001b[39m(\u001b[38;5;124mf\u001b[39m\u001b[38;5;124m\"\u001b[39m\u001b[38;5;124mSmallest = \u001b[39m\u001b[38;5;132;01m{\u001b[39;00msmallest\u001b[38;5;132;01m}\u001b[39;00m\u001b[38;5;124m\"\u001b[39m)\n\u001b[0;32m     17\u001b[0m     \u001b[38;5;28mprint\u001b[39m(\u001b[38;5;124mf\u001b[39m\u001b[38;5;124m\"\u001b[39m\u001b[38;5;124mLargest = \u001b[39m\u001b[38;5;132;01m{\u001b[39;00mlargest\u001b[38;5;132;01m}\u001b[39;00m\u001b[38;5;124m\"\u001b[39m)\n\u001b[1;32m---> 19\u001b[0m \u001b[43msmallestLargest\u001b[49m\u001b[43m(\u001b[49m\u001b[43m)\u001b[49m\n",
      "Cell \u001b[1;32mIn[14], line 3\u001b[0m, in \u001b[0;36msmallestLargest\u001b[1;34m()\u001b[0m\n\u001b[0;32m      1\u001b[0m \u001b[38;5;28;01mdef\u001b[39;00m \u001b[38;5;21msmallestLargest\u001b[39m():\n\u001b[0;32m      2\u001b[0m     \u001b[38;5;66;03m# Ask the user for the number of numbers to enter\u001b[39;00m\n\u001b[1;32m----> 3\u001b[0m     num_numbers \u001b[38;5;241m=\u001b[39m \u001b[38;5;28mint\u001b[39m(\u001b[38;5;28;43minput\u001b[39;49m\u001b[43m(\u001b[49m\u001b[38;5;124;43m\"\u001b[39;49m\u001b[38;5;124;43mHow many numbers do you want to enter? \u001b[39;49m\u001b[38;5;124;43m\"\u001b[39;49m\u001b[43m)\u001b[49m)\n\u001b[0;32m      5\u001b[0m     \u001b[38;5;66;03m# variables for smallest and largest\u001b[39;00m\n\u001b[0;32m      6\u001b[0m     smallest \u001b[38;5;241m=\u001b[39m \u001b[38;5;28mfloat\u001b[39m(\u001b[38;5;124m'\u001b[39m\u001b[38;5;124minf\u001b[39m\u001b[38;5;124m'\u001b[39m)\n",
      "File \u001b[1;32m~\\anaconda3\\lib\\site-packages\\ipykernel\\kernelbase.py:1175\u001b[0m, in \u001b[0;36mKernel.raw_input\u001b[1;34m(self, prompt)\u001b[0m\n\u001b[0;32m   1171\u001b[0m \u001b[38;5;28;01mif\u001b[39;00m \u001b[38;5;129;01mnot\u001b[39;00m \u001b[38;5;28mself\u001b[39m\u001b[38;5;241m.\u001b[39m_allow_stdin:\n\u001b[0;32m   1172\u001b[0m     \u001b[38;5;28;01mraise\u001b[39;00m StdinNotImplementedError(\n\u001b[0;32m   1173\u001b[0m         \u001b[38;5;124m\"\u001b[39m\u001b[38;5;124mraw_input was called, but this frontend does not support input requests.\u001b[39m\u001b[38;5;124m\"\u001b[39m\n\u001b[0;32m   1174\u001b[0m     )\n\u001b[1;32m-> 1175\u001b[0m \u001b[38;5;28;01mreturn\u001b[39;00m \u001b[38;5;28;43mself\u001b[39;49m\u001b[38;5;241;43m.\u001b[39;49m\u001b[43m_input_request\u001b[49m\u001b[43m(\u001b[49m\n\u001b[0;32m   1176\u001b[0m \u001b[43m    \u001b[49m\u001b[38;5;28;43mstr\u001b[39;49m\u001b[43m(\u001b[49m\u001b[43mprompt\u001b[49m\u001b[43m)\u001b[49m\u001b[43m,\u001b[49m\n\u001b[0;32m   1177\u001b[0m \u001b[43m    \u001b[49m\u001b[38;5;28;43mself\u001b[39;49m\u001b[38;5;241;43m.\u001b[39;49m\u001b[43m_parent_ident\u001b[49m\u001b[43m[\u001b[49m\u001b[38;5;124;43m\"\u001b[39;49m\u001b[38;5;124;43mshell\u001b[39;49m\u001b[38;5;124;43m\"\u001b[39;49m\u001b[43m]\u001b[49m\u001b[43m,\u001b[49m\n\u001b[0;32m   1178\u001b[0m \u001b[43m    \u001b[49m\u001b[38;5;28;43mself\u001b[39;49m\u001b[38;5;241;43m.\u001b[39;49m\u001b[43mget_parent\u001b[49m\u001b[43m(\u001b[49m\u001b[38;5;124;43m\"\u001b[39;49m\u001b[38;5;124;43mshell\u001b[39;49m\u001b[38;5;124;43m\"\u001b[39;49m\u001b[43m)\u001b[49m\u001b[43m,\u001b[49m\n\u001b[0;32m   1179\u001b[0m \u001b[43m    \u001b[49m\u001b[43mpassword\u001b[49m\u001b[38;5;241;43m=\u001b[39;49m\u001b[38;5;28;43;01mFalse\u001b[39;49;00m\u001b[43m,\u001b[49m\n\u001b[0;32m   1180\u001b[0m \u001b[43m\u001b[49m\u001b[43m)\u001b[49m\n",
      "File \u001b[1;32m~\\anaconda3\\lib\\site-packages\\ipykernel\\kernelbase.py:1217\u001b[0m, in \u001b[0;36mKernel._input_request\u001b[1;34m(self, prompt, ident, parent, password)\u001b[0m\n\u001b[0;32m   1214\u001b[0m             \u001b[38;5;28;01mbreak\u001b[39;00m\n\u001b[0;32m   1215\u001b[0m \u001b[38;5;28;01mexcept\u001b[39;00m \u001b[38;5;167;01mKeyboardInterrupt\u001b[39;00m:\n\u001b[0;32m   1216\u001b[0m     \u001b[38;5;66;03m# re-raise KeyboardInterrupt, to truncate traceback\u001b[39;00m\n\u001b[1;32m-> 1217\u001b[0m     \u001b[38;5;28;01mraise\u001b[39;00m \u001b[38;5;167;01mKeyboardInterrupt\u001b[39;00m(\u001b[38;5;124m\"\u001b[39m\u001b[38;5;124mInterrupted by user\u001b[39m\u001b[38;5;124m\"\u001b[39m) \u001b[38;5;28;01mfrom\u001b[39;00m \u001b[38;5;28mNone\u001b[39m\n\u001b[0;32m   1218\u001b[0m \u001b[38;5;28;01mexcept\u001b[39;00m \u001b[38;5;167;01mException\u001b[39;00m:\n\u001b[0;32m   1219\u001b[0m     \u001b[38;5;28mself\u001b[39m\u001b[38;5;241m.\u001b[39mlog\u001b[38;5;241m.\u001b[39mwarning(\u001b[38;5;124m\"\u001b[39m\u001b[38;5;124mInvalid Message:\u001b[39m\u001b[38;5;124m\"\u001b[39m, exc_info\u001b[38;5;241m=\u001b[39m\u001b[38;5;28;01mTrue\u001b[39;00m)\n",
      "\u001b[1;31mKeyboardInterrupt\u001b[0m: Interrupted by user"
     ]
    }
   ],
   "source": [
    "def smallestLargest():\n",
    "    # Ask the user for the number of numbers to enter\n",
    "    num_numbers = int(input(\"How many numbers do you want to enter? \"))\n",
    "\n",
    "    # variables for smallest and largest\n",
    "    smallest = float('inf')\n",
    "    largest = float('-inf')\n",
    "\n",
    "    # Loop to get user input and find smallest and largest\n",
    "    for i in range(1, num_numbers + 1):\n",
    "        current_number = float(input(f\"Number {i}: \"))\n",
    "        smallest = min(smallest, current_number)\n",
    "        largest = max(largest, current_number)\n",
    "\n",
    "    # Print the smallest and largest numbers\n",
    "    print(f\"Smallest = {smallest}\")\n",
    "    print(f\"Largest = {largest}\")\n",
    "\n",
    "smallestLargest()\n"
   ]
  },
  {
   "cell_type": "markdown",
   "id": "2a498636",
   "metadata": {},
   "source": [
    "Question 13"
   ]
  },
  {
   "cell_type": "code",
   "execution_count": 15,
   "id": "9e390ba0",
   "metadata": {},
   "outputs": [
    {
     "name": "stdout",
     "output_type": "stream",
     "text": [
      "Type a number: 6\n",
      "Type a number: 89\n",
      "Type a number: 9.0\n",
      "Type a number: -2\n",
      "Average was 34.7\n"
     ]
    }
   ],
   "source": [
    "def printAverage():\n",
    "    # variables for sum and count\n",
    "    total = 0\n",
    "    count = 0\n",
    "\n",
    "    while True:\n",
    "        # Prompt the user for a number\n",
    "        user_input = float(input(\"Type a number: \"))\n",
    "\n",
    "        # Check if the number is negative\n",
    "        if user_input < 0:\n",
    "            # Check if it's the first input, in which case, do not print an average\n",
    "            if count == 0:\n",
    "                print(\"No nonnegative numbers were entered.\")\n",
    "            else:\n",
    "                # Calculate and print the average\n",
    "                average = total / count\n",
    "                print(f\"Average was {average:.1f}\")\n",
    "            break\n",
    "\n",
    "        # Accumulate the sum and increment the count for nonnegative numbers\n",
    "        total += user_input\n",
    "        count += 1\n",
    "\n",
    "printAverage()\n"
   ]
  },
  {
   "cell_type": "markdown",
   "id": "8cad939f",
   "metadata": {},
   "source": [
    "Question 14"
   ]
  },
  {
   "cell_type": "code",
   "execution_count": 16,
   "id": "816d9684",
   "metadata": {},
   "outputs": [
    {
     "name": "stdout",
     "output_type": "stream",
     "text": [
      "3\n",
      "2\n"
     ]
    }
   ],
   "source": [
    "def numUnique(num1, num2, num3):\n",
    "    unique_numbers = set([num1, num2, num3])\n",
    "    return len(unique_numbers)\n",
    "\n",
    "# Example usage\n",
    "result1 = numUnique(18, 3, 4)\n",
    "print(result1)  # Output: 3\n",
    "\n",
    "result2 = numUnique(6, 7, 6)\n",
    "print(result2)  # Output: 2\n"
   ]
  },
  {
   "cell_type": "markdown",
   "id": "d23ec305",
   "metadata": {},
   "source": [
    "Question 15"
   ]
  },
  {
   "cell_type": "code",
   "execution_count": 17,
   "id": "935657e1",
   "metadata": {},
   "outputs": [
    {
     "name": "stdout",
     "output_type": "stream",
     "text": [
      "4 + 6 = 10\n",
      "6 + 6 = 12\n",
      "5 + 5 = 10\n",
      "1 + 4 = 5\n",
      "2 + 4 = 6\n",
      "4 + 1 = 5\n",
      "2 + 5 = 7\n",
      "You won after 7 tries!\n"
     ]
    }
   ],
   "source": [
    "import random\n",
    "\n",
    "def roll_dice():\n",
    "    return random.randint(1, 6)\n",
    "\n",
    "def simulate_dice_rolls():\n",
    "    tries = 0\n",
    "\n",
    "    while True:\n",
    "        # Roll two dice\n",
    "        die1 = roll_dice()\n",
    "        die2 = roll_dice()\n",
    "\n",
    "        print(f\"{die1} + {die2} = {die1 + die2}\")\n",
    "\n",
    "        # Check if the result is 7\n",
    "        if die1 + die2 == 7:\n",
    "            print(f\"You won after {tries + 1} tries!\")\n",
    "            break\n",
    "\n",
    "        tries += 1\n",
    "\n",
    "# Run the simulation\n",
    "simulate_dice_rolls()\n"
   ]
  },
  {
   "cell_type": "code",
   "execution_count": null,
   "id": "3554544c",
   "metadata": {},
   "outputs": [],
   "source": []
  }
 ],
 "metadata": {
  "kernelspec": {
   "display_name": "Python 3 (ipykernel)",
   "language": "python",
   "name": "python3"
  },
  "language_info": {
   "codemirror_mode": {
    "name": "ipython",
    "version": 3
   },
   "file_extension": ".py",
   "mimetype": "text/x-python",
   "name": "python",
   "nbconvert_exporter": "python",
   "pygments_lexer": "ipython3",
   "version": "3.10.9"
  }
 },
 "nbformat": 4,
 "nbformat_minor": 5
}
