{
 "cells": [
  {
   "cell_type": "markdown",
   "id": "0a0a7958",
   "metadata": {},
   "source": [
    "# Exercises 2"
   ]
  },
  {
   "cell_type": "code",
   "execution_count": null,
   "id": "7d3ee0af",
   "metadata": {},
   "outputs": [],
   "source": [
    "#1. Write a program that finds the maximum value of the given list."
   ]
  },
  {
   "cell_type": "code",
   "execution_count": 4,
   "id": "03a6eb63",
   "metadata": {},
   "outputs": [
    {
     "name": "stdout",
     "output_type": "stream",
     "text": [
      "The maximum value in the list is: 23\n"
     ]
    }
   ],
   "source": [
    "#  list\n",
    "numbers = [2, 4, 7, 4, 23, 5, 1, 4, 8, 9]\n",
    "\n",
    "# Find the maximum value\n",
    "max_value = max(numbers)\n",
    "\n",
    "print(\"The maximum value in the list is:\", max_value)"
   ]
  },
  {
   "cell_type": "code",
   "execution_count": null,
   "id": "d709f562",
   "metadata": {},
   "outputs": [],
   "source": [
    "# 2. Write a program that calculates the average value of the given list."
   ]
  },
  {
   "cell_type": "code",
   "execution_count": 5,
   "id": "a5279dfa",
   "metadata": {},
   "outputs": [
    {
     "name": "stdout",
     "output_type": "stream",
     "text": [
      "The average value of the list is: 24.6\n"
     ]
    }
   ],
   "source": [
    "numbers = [4, 7, 1, 5, 11, 53, 12, 46, 84, 23]\n",
    "\n",
    "# Calculate the average value\n",
    "average_value = sum(numbers) / len(numbers)\n",
    "\n",
    "print(\"The average value of the list is:\", average_value)\n"
   ]
  },
  {
   "cell_type": "code",
   "execution_count": null,
   "id": "61ad06b3",
   "metadata": {},
   "outputs": [],
   "source": [
    "#3. Write a program that prints the given list of integers in reverse order."
   ]
  },
  {
   "cell_type": "code",
   "execution_count": 6,
   "id": "47d9fe06",
   "metadata": {},
   "outputs": [
    {
     "name": "stdout",
     "output_type": "stream",
     "text": [
      "Original list: [2, 6, 7, 45, 23, 53, 14, 45, 89, 5]\n",
      "Reversed list: [5, 89, 45, 14, 53, 23, 45, 7, 6, 2]\n"
     ]
    }
   ],
   "source": [
    "numbers = [2, 6, 7, 45, 23, 53, 14, 45, 89, 5]\n",
    "\n",
    "# Print the list in reverse order\n",
    "print(\"Original list:\", numbers)\n",
    "print(\"Reversed list:\", list(reversed(numbers)))\n"
   ]
  },
  {
   "cell_type": "code",
   "execution_count": null,
   "id": "2bb3e10b",
   "metadata": {},
   "outputs": [],
   "source": [
    "#Question 4"
   ]
  },
  {
   "cell_type": "code",
   "execution_count": 7,
   "id": "14b21b87",
   "metadata": {},
   "outputs": [
    {
     "name": "stdout",
     "output_type": "stream",
     "text": [
      "True\n"
     ]
    }
   ],
   "source": [
    "def compare_lists(list1, list2):\n",
    "    # Check if the lists are of the same length\n",
    "    if len(list1) != len(list2):\n",
    "        return False\n",
    "\n",
    "    # Compare each element at the same index\n",
    "    for i in range(len(list1)):\n",
    "        if list1[i] >= list2[i]:\n",
    "            return False\n",
    "\n",
    "    # If all comparisons passed, return True\n",
    "    return True\n",
    "\n",
    "# List:\n",
    "list1 = [2, 4, 6, 8, 10]\n",
    "list2 = [3, 5, 7, 9, 11]\n",
    "\n",
    "result = compare_lists(list1, list2)\n",
    "print(result)\n"
   ]
  },
  {
   "cell_type": "code",
   "execution_count": null,
   "id": "e7295cd8",
   "metadata": {},
   "outputs": [],
   "source": [
    "#Question 5"
   ]
  },
  {
   "cell_type": "code",
   "execution_count": 8,
   "id": "9767bf55",
   "metadata": {},
   "outputs": [
    {
     "name": "stdout",
     "output_type": "stream",
     "text": [
      "List after swapping elements at indexes 1 and 3: [2, 45, 7, 6, 23, 53, 14, 45, 89, 5]\n"
     ]
    }
   ],
   "source": [
    "def swap_elements(lst, index1, index2):\n",
    "    # Check if the indexes are within the valid range\n",
    "    if 0 <= index1 < len(lst) and 0 <= index2 < len(lst):\n",
    "        # Swap the elements at the specified indexes\n",
    "        lst[index1], lst[index2] = lst[index2], lst[index1]\n",
    "        return True\n",
    "    else:\n",
    "        # Print a message if the indexes are out of range\n",
    "        print(\"Invalid indexes. Please provide valid indexes.\")\n",
    "        return False\n",
    "\n",
    "#number list\n",
    "numbers = [2, 6, 7, 45, 23, 53, 14, 45, 89, 5]\n",
    "\n",
    "# Swap elements at indexes 1 and 3\n",
    "swap_elements(numbers, 1, 3)\n",
    "print(\"List after swapping elements at indexes 1 and 3:\", numbers)\n"
   ]
  },
  {
   "cell_type": "code",
   "execution_count": null,
   "id": "3e9295ca",
   "metadata": {},
   "outputs": [],
   "source": [
    "#Question 6"
   ]
  },
  {
   "cell_type": "code",
   "execution_count": 9,
   "id": "04e48119",
   "metadata": {},
   "outputs": [
    {
     "name": "stdout",
     "output_type": "stream",
     "text": [
      "New list: [2, 6, 7, 4, 23, 45, 5, 1, 4, 8, 9]\n"
     ]
    }
   ],
   "source": [
    "def concatenate_lists(list1, list2):\n",
    "    # Concatenate the two lists\n",
    "    new_list = list1 + list2\n",
    "    return new_list\n",
    "\n",
    "list1 = [2, 6, 7, 4, 23]\n",
    "list2 = [45, 5, 1, 4, 8, 9]\n",
    "\n",
    "result_list = concatenate_lists(list1, list2)\n",
    "print(\"New list:\", result_list)\n"
   ]
  },
  {
   "cell_type": "code",
   "execution_count": null,
   "id": "1067213a",
   "metadata": {},
   "outputs": [],
   "source": [
    "#Question 7"
   ]
  },
  {
   "cell_type": "code",
   "execution_count": 10,
   "id": "a05eaa81",
   "metadata": {},
   "outputs": [
    {
     "name": "stdout",
     "output_type": "stream",
     "text": [
      "The last index of 85 in the list is: 5\n"
     ]
    }
   ],
   "source": [
    "def last_index_of_value(lst, value):\n",
    "    # Check if the value is present in the list\n",
    "    if value in lst:\n",
    "        # Find the last index of the value in the list\n",
    "        last_index = len(lst) - 1 - lst[::-1].index(value)\n",
    "        return last_index\n",
    "    else:\n",
    "        # Return -1 if the value is not found\n",
    "        return -1\n",
    "\n",
    "numbers = [74, 85, 102, 99, 101, 85, 56]\n",
    "search_value = 85\n",
    "\n",
    "result = last_index_of_value(numbers, search_value)\n",
    "print(f\"The last index of {search_value} in the list is: {result}\")\n"
   ]
  },
  {
   "cell_type": "code",
   "execution_count": null,
   "id": "802873a0",
   "metadata": {},
   "outputs": [],
   "source": [
    "#Question 8"
   ]
  },
  {
   "cell_type": "code",
   "execution_count": 11,
   "id": "25540034",
   "metadata": {},
   "outputs": [
    {
     "name": "stdout",
     "output_type": "stream",
     "text": [
      "The range of values in the list is: 35\n"
     ]
    }
   ],
   "source": [
    "def calculate_range(lst):\n",
    "    # Find the minimum and maximum values in the list\n",
    "    min_value = min(lst)\n",
    "    max_value = max(lst)\n",
    "    \n",
    "    # Calculate the range\n",
    "    value_range = max_value - min_value + 1\n",
    "    \n",
    "    # Print the result\n",
    "    print(\"The range of values in the list is:\", value_range)\n",
    "\n",
    "numbers = [36, 12, 25, 19, 46, 31, 22]\n",
    "\n",
    "# Calculate and print the range of values\n",
    "calculate_range(numbers)\n"
   ]
  },
  {
   "cell_type": "code",
   "execution_count": null,
   "id": "0c6cd1a8",
   "metadata": {},
   "outputs": [],
   "source": [
    "#Question 9"
   ]
  },
  {
   "cell_type": "code",
   "execution_count": 12,
   "id": "8abb96d2",
   "metadata": {},
   "outputs": [
    {
     "name": "stdout",
     "output_type": "stream",
     "text": [
      "The number of elements between 4 and 17 (inclusive) is: 4\n"
     ]
    }
   ],
   "source": [
    "def count_elements_between(lst, min_value, max_value):\n",
    "    # Filter elements within the specified range\n",
    "    elements_within_range = [element for element in lst if min_value <= element <= max_value]\n",
    "    \n",
    "    # Count and print the number of elements within the range\n",
    "    count = len(elements_within_range)\n",
    "    print(f\"The number of elements between {min_value} and {max_value} (inclusive) is: {count}\")\n",
    "\n",
    "\n",
    "numbers = [14, 1, 22, 17, 36, 7, -43, 5]\n",
    "min_value = 4\n",
    "max_value = 17\n",
    "\n",
    "# Count and print the number of elements within the specified range\n",
    "count_elements_between(numbers, min_value, max_value)\n"
   ]
  },
  {
   "cell_type": "code",
   "execution_count": null,
   "id": "e1044884",
   "metadata": {},
   "outputs": [],
   "source": [
    "#Question 10"
   ]
  },
  {
   "cell_type": "code",
   "execution_count": 14,
   "id": "99044b1f",
   "metadata": {},
   "outputs": [
    {
     "name": "stdout",
     "output_type": "stream",
     "text": [
      "The list is in sorted order: False\n",
      "The list is in sorted order: True\n"
     ]
    }
   ],
   "source": [
    "def is_sorted(lst):\n",
    "    # Check if the list is in sorted order\n",
    "    sorted_order = all(lst[i] <= lst[i + 1] for i in range(len(lst) - 1))\n",
    "    \n",
    "    # Print the result\n",
    "    print(\"The list is in sorted order:\", sorted_order)\n",
    "\n",
    "\n",
    "list1 = [16.1, 12.3, 22.2, 14.4]\n",
    "list2 = [1.5, 4.3, 7.0, 19.5, 25.1, 46.2]\n",
    "\n",
    "# Check and print if list1 is in sorted order\n",
    "is_sorted(list1)\n",
    "\n",
    "# Check and print if list2 is in sorted order\n",
    "is_sorted(list2)\n"
   ]
  },
  {
   "cell_type": "code",
   "execution_count": null,
   "id": "13699dcf",
   "metadata": {},
   "outputs": [],
   "source": []
  }
 ],
 "metadata": {
  "kernelspec": {
   "display_name": "Python 3 (ipykernel)",
   "language": "python",
   "name": "python3"
  },
  "language_info": {
   "codemirror_mode": {
    "name": "ipython",
    "version": 3
   },
   "file_extension": ".py",
   "mimetype": "text/x-python",
   "name": "python",
   "nbconvert_exporter": "python",
   "pygments_lexer": "ipython3",
   "version": "3.10.9"
  }
 },
 "nbformat": 4,
 "nbformat_minor": 5
}
