{
 "cells": [
  {
   "cell_type": "markdown",
   "id": "fe8671a7",
   "metadata": {},
   "source": [
    "# List Methods:"
   ]
  },
  {
   "cell_type": "code",
   "execution_count": 1,
   "id": "f40dc46e",
   "metadata": {},
   "outputs": [
    {
     "name": "stdout",
     "output_type": "stream",
     "text": [
      "[1, 2, 3, 4]\n"
     ]
    }
   ],
   "source": [
    "#Adds an element to the end of the list.append()\n",
    "\n",
    "number = [1, 2, 3]\n",
    "number.append(4)\n",
    "print(number) \n"
   ]
  },
  {
   "cell_type": "code",
   "execution_count": 4,
   "id": "a35edfef",
   "metadata": {},
   "outputs": [
    {
     "name": "stdout",
     "output_type": "stream",
     "text": [
      "[1, 2, 3, 4, 5]\n"
     ]
    }
   ],
   "source": [
    "#Extends the list by appending elements from an iterable.extend()\n",
    "number = [1, 2, 3]\n",
    "number.extend([4, 5])\n",
    "print(number)  \n"
   ]
  },
  {
   "cell_type": "code",
   "execution_count": 10,
   "id": "9f77ed2e",
   "metadata": {},
   "outputs": [
    {
     "name": "stdout",
     "output_type": "stream",
     "text": [
      "[1, 10, 2, 3]\n"
     ]
    }
   ],
   "source": [
    "#Inserts an element at a specific index in the list.insert()\n",
    "number_list = [1, 2, 3]\n",
    "number_list.insert(1, 10)\n",
    "print(number_list)  \n"
   ]
  },
  {
   "cell_type": "code",
   "execution_count": 13,
   "id": "43587eea",
   "metadata": {},
   "outputs": [
    {
     "name": "stdout",
     "output_type": "stream",
     "text": [
      "[1, 2, 4, 2]\n"
     ]
    }
   ],
   "source": [
    "#Removes a specified value.remove()\n",
    "my_number = [1, 2, 3, 4, 2]\n",
    "my_number.remove(3)\n",
    "print(my_number) \n"
   ]
  },
  {
   "cell_type": "code",
   "execution_count": 22,
   "id": "120441c2",
   "metadata": {},
   "outputs": [
    {
     "name": "stdout",
     "output_type": "stream",
     "text": [
      "[1, 2] 3\n"
     ]
    }
   ],
   "source": [
    "#Removes and returns the element at the specified index.pop()\n",
    "my_list = [1, 2, 3]\n",
    "popped_element = my_list.pop(2)\n",
    "print(my_list, popped_element)  \n"
   ]
  },
  {
   "cell_type": "code",
   "execution_count": 21,
   "id": "ef6937a1",
   "metadata": {},
   "outputs": [
    {
     "name": "stdout",
     "output_type": "stream",
     "text": [
      "2\n"
     ]
    }
   ],
   "source": [
    "#Returns the index of the first occurrence of a specified value.index()\n",
    "number = [1, 2, 3, 2]\n",
    "index = number.index(3)\n",
    "print(index)  \n",
    "\n"
   ]
  },
  {
   "cell_type": "code",
   "execution_count": 26,
   "id": "c1137297",
   "metadata": {},
   "outputs": [
    {
     "name": "stdout",
     "output_type": "stream",
     "text": [
      "2\n"
     ]
    }
   ],
   "source": [
    "#Returns the number of occurrences of a specified value.count()\n",
    "number = [1, 2, 3, 2]\n",
    "count = number.count(2)\n",
    "print(count) \n"
   ]
  },
  {
   "cell_type": "code",
   "execution_count": 27,
   "id": "8c18fd65",
   "metadata": {},
   "outputs": [
    {
     "name": "stdout",
     "output_type": "stream",
     "text": [
      "[1, 1, 2, 3, 4, 5, 9]\n"
     ]
    }
   ],
   "source": [
    "#Sorts the elements of a list in ascending order.sort()\n",
    "my_number = [3, 1, 4, 1, 5, 9, 2]\n",
    "my_number.sort()\n",
    "print(my_number) \n"
   ]
  },
  {
   "cell_type": "code",
   "execution_count": 29,
   "id": "a46a399d",
   "metadata": {},
   "outputs": [
    {
     "name": "stdout",
     "output_type": "stream",
     "text": [
      "[9, 8, 7, 6, 5, 4, 3, 2, 1]\n"
     ]
    }
   ],
   "source": [
    "#Reverses the order of the elements in the list.reverse()\n",
    "my_list = [1, 2, 3,4,5,6,7,8,9]\n",
    "my_list.reverse()\n",
    "print(my_list)  \n"
   ]
  },
  {
   "cell_type": "code",
   "execution_count": 31,
   "id": "61d8a093",
   "metadata": {},
   "outputs": [
    {
     "name": "stdout",
     "output_type": "stream",
     "text": [
      "[1, 2, 3, 4, 5]\n"
     ]
    }
   ],
   "source": [
    "#Returns a shallow copy of the list.copy()\n",
    "original_list = [1, 2, 3,4,5]\n",
    "copied_list = original_list.copy()\n",
    "print(copied_list)  \n",
    "\n"
   ]
  },
  {
   "cell_type": "markdown",
   "id": "02eae06f",
   "metadata": {},
   "source": [
    "# Tuple Methods:"
   ]
  },
  {
   "cell_type": "code",
   "execution_count": 32,
   "id": "f16fae44",
   "metadata": {},
   "outputs": [
    {
     "name": "stdout",
     "output_type": "stream",
     "text": [
      "2\n"
     ]
    }
   ],
   "source": [
    "#Returns the number of occurrences of a specified value.count()\n",
    "my_tuple = (1, 2, 3, 2)\n",
    "count = my_tuple.count(2)\n",
    "print(count) \n"
   ]
  },
  {
   "cell_type": "code",
   "execution_count": 33,
   "id": "1f1ca778",
   "metadata": {},
   "outputs": [
    {
     "name": "stdout",
     "output_type": "stream",
     "text": [
      "1\n"
     ]
    }
   ],
   "source": [
    "#Returns the index of the first occurrence of a specified value.index()\n",
    "my_tuple = (1, 2, 3, 2)\n",
    "index = my_tuple.index(2)\n",
    "print(index)  \n",
    "\n"
   ]
  },
  {
   "cell_type": "markdown",
   "id": "f1fdcdee",
   "metadata": {},
   "source": [
    "# Dictionary Methods:"
   ]
  },
  {
   "cell_type": "code",
   "execution_count": 38,
   "id": "c2cdc847",
   "metadata": {},
   "outputs": [
    {
     "name": "stdout",
     "output_type": "stream",
     "text": [
      "1\n"
     ]
    }
   ],
   "source": [
    "#Returns the value of the specified key. If the key does not exist, it returns a default value.get()\n",
    "my_dict = {'a': 1, 'b': 2}\n",
    "value = my_dict.get('a', 0)\n",
    "print(value)  \n"
   ]
  },
  {
   "cell_type": "code",
   "execution_count": 39,
   "id": "2313f184",
   "metadata": {},
   "outputs": [
    {
     "name": "stdout",
     "output_type": "stream",
     "text": [
      "dict_keys(['a', 'b', 'c'])\n"
     ]
    }
   ],
   "source": [
    "#Returns a list of all the keys in the dictionary.keys()\n",
    "my_dict = {'a': 1, 'b': 2, 'c': 3}\n",
    "keys = my_dict.keys()\n",
    "print(keys)\n"
   ]
  },
  {
   "cell_type": "code",
   "execution_count": 40,
   "id": "e38d9053",
   "metadata": {},
   "outputs": [
    {
     "name": "stdout",
     "output_type": "stream",
     "text": [
      "dict_values([1, 2, 3])\n"
     ]
    }
   ],
   "source": [
    "#Returns a list of all the values in the dictionary.values()\n",
    "my_dict = {'a': 1, 'b': 2, 'c': 3}\n",
    "values = my_dict.values()\n",
    "print(values)  \n"
   ]
  },
  {
   "cell_type": "code",
   "execution_count": 41,
   "id": "0cac17c6",
   "metadata": {},
   "outputs": [
    {
     "name": "stdout",
     "output_type": "stream",
     "text": [
      "dict_items([('a', 1), ('b', 2), ('c', 3)])\n"
     ]
    }
   ],
   "source": [
    "#Returns a list of key-value pairs as tuples.items()\n",
    "my_dict = {'a': 1, 'b': 2, 'c': 3}\n",
    "items = my_dict.items()\n",
    "print(items)  \n"
   ]
  },
  {
   "cell_type": "code",
   "execution_count": 42,
   "id": "9646e515",
   "metadata": {},
   "outputs": [
    {
     "name": "stdout",
     "output_type": "stream",
     "text": [
      "{'a': 1, 'b': 2, 'c': 3, 'd': 4}\n"
     ]
    }
   ],
   "source": [
    "#Updates the dictionary with key-value pairs from another dictionary or an iterable of key-value pairs.update()\n",
    "my_dict = {'a': 1, 'b': 2}\n",
    "my_dict.update({'c': 3, 'd': 4})\n",
    "print(my_dict)  "
   ]
  },
  {
   "cell_type": "code",
   "execution_count": 43,
   "id": "fd1fc276",
   "metadata": {},
   "outputs": [
    {
     "name": "stdout",
     "output_type": "stream",
     "text": [
      "{}\n"
     ]
    }
   ],
   "source": [
    "#Removes all items from the dictionary.clear()\n",
    "my_dict = {'a': 1, 'b': 2}\n",
    "my_dict.clear()\n",
    "print(my_dict)  \n"
   ]
  },
  {
   "cell_type": "code",
   "execution_count": null,
   "id": "531db5fe",
   "metadata": {},
   "outputs": [],
   "source": []
  }
 ],
 "metadata": {
  "kernelspec": {
   "display_name": "Python 3 (ipykernel)",
   "language": "python",
   "name": "python3"
  },
  "language_info": {
   "codemirror_mode": {
    "name": "ipython",
    "version": 3
   },
   "file_extension": ".py",
   "mimetype": "text/x-python",
   "name": "python",
   "nbconvert_exporter": "python",
   "pygments_lexer": "ipython3",
   "version": "3.10.9"
  }
 },
 "nbformat": 4,
 "nbformat_minor": 5
}
